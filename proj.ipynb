{
 "cells": [
  {
   "cell_type": "code",
   "execution_count": 157,
   "metadata": {},
   "outputs": [],
   "source": [
    "from PIL import Image\n",
    "import numpy as np\n",
    "import matplotlib.pyplot as plt\n",
    "from scipy.signal import convolve2d\n",
    "import os\n",
    "import cv2\n",
    "from random import randint, choice\n",
    "from math import sqrt"
   ]
  },
  {
   "cell_type": "code",
   "execution_count": 18,
   "metadata": {},
   "outputs": [],
   "source": [
    "# Load the images\n",
    "def load_images(DIR):\n",
    "    fn = [os.path.join(DIR, f) for f in sorted(os.listdir(DIR)) if f.endswith(\".JPG\")]\n",
    "    return np.array([cv2.imread(f) for f in fn]), np.array(\n",
    "        [cv2.imread(f, 0) for f in fn]\n",
    "    )"
   ]
  },
  {
   "cell_type": "code",
   "execution_count": 19,
   "metadata": {},
   "outputs": [],
   "source": [
    "# Harris Corner Detection\n",
    "def harris_corner_detector(img, colimg, k=0.04, window_size=3, threshold=0.0025):\n",
    "    # Gaussian Blur over the image\n",
    "    img = cv2.GaussianBlur(img, (window_size, window_size), 0)\n",
    "\n",
    "    # Compute the gradients\n",
    "    Ix = cv2.Sobel(img, cv2.CV_64F, dx=0, dy=1, ksize=window_size)\n",
    "    Iy = cv2.Sobel(img, cv2.CV_64F, dx=1, dy=0, ksize=window_size)\n",
    "\n",
    "    # Compute the products of the gradients\n",
    "    IxIy = Ix * Iy\n",
    "    Ix2 = Ix**2\n",
    "    Iy2 = Iy**2\n",
    "\n",
    "    # Compute the sums of the products of the gradients\n",
    "    S2x = cv2.GaussianBlur(Ix2, (window_size, window_size), 0)\n",
    "    S2y = cv2.GaussianBlur(Iy2, (window_size, window_size), 0)\n",
    "    Sxy = cv2.GaussianBlur(IxIy, (window_size, window_size), 0)\n",
    "\n",
    "    # Harris Corner Response\n",
    "    det = (S2x * S2y) - (Sxy**2)\n",
    "    trace = S2x + S2y\n",
    "\n",
    "    R = det - k * (trace**2)\n",
    "\n",
    "    # Normalize\n",
    "    R /= R.max()\n",
    "\n",
    "    # Dilate\n",
    "    # Rd = cv2.dilate(R, None)\n",
    "    Rd = R\n",
    "\n",
    "    # Thresholding\n",
    "    R[Rd > threshold] = 255\n",
    "\n",
    "    # Non Max Suppression\n",
    "    R[Rd <= threshold] = 0\n",
    "\n",
    "    return R"
   ]
  },
  {
   "cell_type": "code",
   "execution_count": 20,
   "metadata": {},
   "outputs": [],
   "source": [
    "def NCC(f, g):\n",
    "    f_hat = f / np.linalg.norm(f)\n",
    "    g_hat = g / np.linalg.norm(g)\n",
    "\n",
    "    ncc = np.sum(f_hat * g_hat)\n",
    "    return ncc\n"
   ]
  },
  {
   "cell_type": "code",
   "execution_count": 21,
   "metadata": {},
   "outputs": [],
   "source": [
    "def RANSAC(points):\n",
    "    return"
   ]
  },
  {
   "cell_type": "code",
   "execution_count": 22,
   "metadata": {},
   "outputs": [],
   "source": [
    "def show(col, gray):\n",
    "    for i in range(len(col)):\n",
    "        cv2.imshow(\"{i}\", col[i])\n",
    "        cv2.imshow(\"G{i}\", gray[i])\n",
    "        if cv2.waitKey(0) & 0xFF == ord(\"q\"):\n",
    "            cv2.destroyAllWindows()\n",
    "            if 0xFF == ord(\"e\"):\n",
    "                break\n",
    "            else:\n",
    "                continue"
   ]
  },
  {
   "cell_type": "code",
   "execution_count": 30,
   "metadata": {},
   "outputs": [
    {
     "name": "stdout",
     "output_type": "stream",
     "text": [
      "i=101/1158 j=1695/1696\r"
     ]
    }
   ],
   "source": [
    "DIR = \"DanaHallWay1\"  # --> k=0.0025\n",
    "# DIR = \"DanaOffice\" #--> k=0.01 (?)\n",
    "col, gray = load_images(DIR)\n",
    "\n",
    "harris = []\n",
    "for i in range(len(col)):\n",
    "    R1 = harris_corner_detector(gray[i], col[i])\n",
    "    R2 = harris_corner_detector(gray[i + 1], col[i + 1])\n",
    "    break\n",
    "\n",
    "corner1 = np.where(R1 == 255)\n",
    "corner2 = np.where(R2 == 255)\n",
    "\n",
    "# List of coordinates of corners\n",
    "c1coords = list(zip(corner1[0], corner1[1]))\n",
    "c2coords = list(zip(corner2[0], corner2[1]))\n",
    "\n",
    "# Window size and padding for NCC\n",
    "window_size = 5\n",
    "pad = int((window_size - 1) / 2)\n",
    "\n",
    "# Pad gray images\n",
    "g1_pad = np.pad(gray[0], pad, \"constant\", constant_values=0)\n",
    "g2_pad = np.pad(gray[1], pad, \"constant\", constant_values=0)\n",
    "\n",
    "# Perform NCC\n",
    "# - Compare every corner detected in image 1 with every corner detected in image 2\n",
    "# - Store the pairs of corners with the highest correlation value\n",
    "corners = {}\n",
    "for i, corner1 in enumerate(c1coords):\n",
    "    # Image patch around corner 1\n",
    "    x1 = max(corner1[0] - pad, 0)\n",
    "    x2 = max(corner1[0] + pad + 1, window_size)\n",
    "    y1 = max(corner1[1] - pad, 0)\n",
    "    y2 = max(corner1[1] + pad + 1, window_size)\n",
    "    patch1 = g1_pad[\n",
    "        x1 : x2,\n",
    "        y1 : y2,\n",
    "    ]\n",
    "\n",
    "    maxNCC = -1\n",
    "    coords = None\n",
    "    for j, corner2 in enumerate(c2coords):\n",
    "        print(f\"i={i}/{len(c1coords)} j={j}/{len(c2coords)}\", end=\"\\r\")\n",
    "\n",
    "        # Image patch around corner 2\n",
    "        x1 = max(corner2[0] - pad, 0)\n",
    "        x2 = max(corner2[0] + pad + 1, window_size)\n",
    "        y1 = max(corner2[1] - pad, 0)\n",
    "        y2 = max(corner2[1] + pad + 1, window_size)\n",
    "        patch2 = g2_pad[\n",
    "            x1 : x2,\n",
    "            y1 : y2,\n",
    "        ]\n",
    "        # Calculate NCC using image patches\n",
    "        ncc = NCC(patch1, patch2)\n",
    "        # If this NCC is the new max, store it and the coords of the corner\n",
    "        if ncc > maxNCC:\n",
    "            maxNCC = ncc\n",
    "            coords = corner2[0], corner2[1]\n",
    "\n",
    "    # Break earlier for testing\n",
    "    if i > 100:\n",
    "        break\n",
    "\n",
    "    # Threshold\n",
    "    # if maxNCC < 0.9995:\n",
    "    #     continue\n",
    "\n",
    "    # Store corner pair with highest NCC\n",
    "    corners[(corner1[0], corner1[1])] = coords\n",
    "    # Color the corners in the images\n",
    "    col[0][corner1[0], corner1[1]] = [0, 0, 255]\n",
    "    col[1][coords[0], coords[1]] = [0, 0, 255]\n"
   ]
  },
  {
   "cell_type": "code",
   "execution_count": 32,
   "metadata": {},
   "outputs": [
    {
     "name": "stdout",
     "output_type": "stream",
     "text": [
      "{(0, 425): (0, 300), (0, 426): (0, 301), (0, 427): (0, 302), (0, 436): (0, 308), (0, 437): (0, 309), (0, 438): (0, 310), (1, 425): (0, 300), (1, 426): (0, 301), (1, 427): (0, 302), (1, 436): (0, 308), (1, 437): (0, 309), (4, 364): (7, 252), (4, 365): (7, 253), (4, 366): (7, 254), (5, 364): (7, 252), (5, 365): (7, 253), (5, 366): (7, 254), (5, 367): (7, 255), (5, 368): (7, 256), (6, 363): (8, 251), (6, 364): (8, 252), (6, 365): (8, 253), (6, 366): (8, 254), (6, 367): (8, 255), (6, 368): (8, 256), (7, 363): (9, 251), (7, 364): (9, 252), (7, 365): (9, 253), (7, 445): (15, 328), (7, 446): (15, 328), (7, 447): (15, 329), (7, 448): (82, 57), (7, 449): (94, 56), (8, 363): (10, 251), (8, 364): (10, 252), (8, 365): (10, 253), (8, 366): (10, 254), (8, 445): (16, 328), (8, 448): (15, 329), (8, 449): (284, 342), (9, 364): (11, 252), (9, 448): (18, 448), (9, 449): (17, 448), (10, 448): (213, 503), (10, 449): (145, 409), (11, 444): (18, 326), (11, 448): (240, 396), (11, 449): (239, 397), (12, 444): (79, 27), (12, 449): (239, 397), (13, 444): (79, 27), (14, 441): (22, 325), (14, 442): (21, 324), (14, 444): (22, 327), (15, 441): (23, 324), (15, 442): (23, 325), (15, 444): (23, 327), (16, 441): (23, 324), (16, 442): (23, 325), (16, 444): (127, 405), (17, 441): (24, 324), (17, 442): (24, 325), (17, 444): (24, 327), (17, 445): (127, 406), (18, 441): (25, 324), (18, 442): (25, 325), (18, 445): (127, 406), (19, 441): (26, 324), (19, 442): (26, 324), (19, 445): (132, 406), (20, 441): (4, 510), (32, 486): (264, 353), (32, 487): (41, 364), (33, 441): (39, 324), (33, 485): (41, 363), (33, 486): (55, 51), (33, 487): (55, 52), (33, 488): (55, 53), (34, 441): (40, 324), (34, 442): (40, 325), (34, 485): (41, 363), (34, 486): (160, 348), (34, 487): (43, 364), (34, 488): (43, 365), (35, 441): (40, 325), (35, 442): (41, 324), (35, 445): (153, 406), (35, 486): (155, 40), (35, 487): (44, 364), (35, 488): (44, 365), (36, 441): (41, 325), (36, 442): (42, 324), (36, 445): (153, 406), (36, 487): (45, 364), (36, 488): (45, 365), (37, 441): (42, 325), (37, 442): (43, 324), (37, 488): (46, 365), (38, 441): (43, 325), (38, 442): (44, 325), (38, 488): (47, 365)}\n"
     ]
    }
   ],
   "source": [
    "# Concatenate the two images\n",
    "vis = np.concatenate((col[0], col[1]), axis=1)\n",
    "\n",
    "# Draw lines between correlated corners\n",
    "for key, value in corners.items():\n",
    "    r = randint(0, 255)\n",
    "    g = randint(0, 255)\n",
    "    b = randint(0, 255)\n",
    "    start_y, start_x = key\n",
    "    end_y, end_x = value\n",
    "    end_x = int(end_x + vis.shape[1]/2)\n",
    "    end = (end_x, end_y)\n",
    "    start = (start_x, start_y)\n",
    "    cv2.line(vis, start, end, (b, g, r), 1)\n",
    "\n",
    "show([vis], [vis])\n",
    "print(corners)"
   ]
  },
  {
   "cell_type": "code",
   "execution_count": 155,
   "metadata": {},
   "outputs": [],
   "source": [
    "def dist(p1, p2):\n",
    "    return sqrt(((p1[0] - p2[0]) ** 2) + ((p1[1] - p2[1]) ** 2))"
   ]
  },
  {
   "cell_type": "code",
   "execution_count": 158,
   "metadata": {},
   "outputs": [
    {
     "ename": "NameError",
     "evalue": "name 'math' is not defined",
     "output_type": "error",
     "traceback": [
      "\u001b[1;31m---------------------------------------------------------------------------\u001b[0m",
      "\u001b[1;31mNameError\u001b[0m                                 Traceback (most recent call last)",
      "\u001b[1;32mC:\\Users\\ELIPC~1\\AppData\\Local\\Temp/ipykernel_21592/3287889260.py\u001b[0m in \u001b[0;36m<module>\u001b[1;34m\u001b[0m\n\u001b[0;32m     24\u001b[0m     \u001b[0mres1\u001b[0m \u001b[1;33m=\u001b[0m \u001b[0mnp\u001b[0m\u001b[1;33m.\u001b[0m\u001b[0mmatmul\u001b[0m\u001b[1;33m(\u001b[0m\u001b[0mh_inv\u001b[0m\u001b[1;33m,\u001b[0m \u001b[0mmat1\u001b[0m\u001b[1;33m)\u001b[0m\u001b[1;33m\u001b[0m\u001b[1;33m\u001b[0m\u001b[0m\n\u001b[0;32m     25\u001b[0m     \u001b[0mres1\u001b[0m \u001b[1;33m=\u001b[0m \u001b[1;33m(\u001b[0m\u001b[0mres1\u001b[0m\u001b[1;33m[\u001b[0m\u001b[1;33m:\u001b[0m\u001b[1;36m2\u001b[0m\u001b[1;33m]\u001b[0m\u001b[1;33m/\u001b[0m\u001b[0mres1\u001b[0m\u001b[1;33m[\u001b[0m\u001b[1;36m2\u001b[0m\u001b[1;33m]\u001b[0m\u001b[1;33m)\u001b[0m\u001b[1;33m.\u001b[0m\u001b[0mastype\u001b[0m\u001b[1;33m(\u001b[0m\u001b[0mint\u001b[0m\u001b[1;33m)\u001b[0m\u001b[1;33m\u001b[0m\u001b[1;33m\u001b[0m\u001b[0m\n\u001b[1;32m---> 26\u001b[1;33m     \u001b[0mdist1\u001b[0m \u001b[1;33m=\u001b[0m \u001b[0mdist\u001b[0m\u001b[1;33m(\u001b[0m\u001b[0mres1\u001b[0m\u001b[1;33m,\u001b[0m \u001b[0mpoint1\u001b[0m\u001b[1;33m)\u001b[0m\u001b[1;33m\u001b[0m\u001b[1;33m\u001b[0m\u001b[0m\n\u001b[0m\u001b[0;32m     27\u001b[0m \u001b[1;33m\u001b[0m\u001b[0m\n\u001b[0;32m     28\u001b[0m     \u001b[1;31m# Estimate point2 using point1\u001b[0m\u001b[1;33m\u001b[0m\u001b[1;33m\u001b[0m\u001b[0m\n",
      "\u001b[1;32mC:\\Users\\ELIPC~1\\AppData\\Local\\Temp/ipykernel_21592/2851415990.py\u001b[0m in \u001b[0;36mdist\u001b[1;34m(p1, p2)\u001b[0m\n\u001b[0;32m      1\u001b[0m \u001b[1;32mdef\u001b[0m \u001b[0mdist\u001b[0m\u001b[1;33m(\u001b[0m\u001b[0mp1\u001b[0m\u001b[1;33m,\u001b[0m \u001b[0mp2\u001b[0m\u001b[1;33m)\u001b[0m\u001b[1;33m:\u001b[0m\u001b[1;33m\u001b[0m\u001b[1;33m\u001b[0m\u001b[0m\n\u001b[1;32m----> 2\u001b[1;33m     \u001b[1;32mreturn\u001b[0m \u001b[0mmath\u001b[0m\u001b[1;33m.\u001b[0m\u001b[0msqrt\u001b[0m\u001b[1;33m(\u001b[0m\u001b[1;33m(\u001b[0m\u001b[1;33m(\u001b[0m\u001b[0mp1\u001b[0m\u001b[1;33m[\u001b[0m\u001b[1;36m0\u001b[0m\u001b[1;33m]\u001b[0m \u001b[1;33m-\u001b[0m \u001b[0mp2\u001b[0m\u001b[1;33m[\u001b[0m\u001b[1;36m0\u001b[0m\u001b[1;33m]\u001b[0m\u001b[1;33m)\u001b[0m \u001b[1;33m**\u001b[0m \u001b[1;36m2\u001b[0m\u001b[1;33m)\u001b[0m \u001b[1;33m+\u001b[0m \u001b[1;33m(\u001b[0m\u001b[1;33m(\u001b[0m\u001b[0mp1\u001b[0m\u001b[1;33m[\u001b[0m\u001b[1;36m1\u001b[0m\u001b[1;33m]\u001b[0m \u001b[1;33m-\u001b[0m \u001b[0mp2\u001b[0m\u001b[1;33m[\u001b[0m\u001b[1;36m1\u001b[0m\u001b[1;33m]\u001b[0m\u001b[1;33m)\u001b[0m \u001b[1;33m**\u001b[0m \u001b[1;36m2\u001b[0m\u001b[1;33m)\u001b[0m\u001b[1;33m)\u001b[0m\u001b[1;33m\u001b[0m\u001b[1;33m\u001b[0m\u001b[0m\n\u001b[0m",
      "\u001b[1;31mNameError\u001b[0m: name 'math' is not defined"
     ]
    }
   ],
   "source": [
    "N = 4\n",
    "points1 = []\n",
    "points2 = []\n",
    "\n",
    "# Sample the minimal number of points needed to estimate a homography (4 pts)\n",
    "for i in range(N):\n",
    "    pt1 = choice(list(corners.keys()))\n",
    "    pt2 = list(corners[pt1])\n",
    "    pt1 = list(pt1)\n",
    "    points1.append(pt1)\n",
    "    points2.append(pt2)\n",
    "points1 = np.asarray(points1)\n",
    "points2 = np.asarray(points2)\n",
    "\n",
    "# Compute homography matrix\n",
    "# TODO: Do we have to do this manually\n",
    "h1, status = cv2.findHomography(points1, points2)\n",
    "# TODO: How to handle when there isn't an inverse\n",
    "h_inv = np.linalg.inv(h)\n",
    "\n",
    "for point1, point2 in zip(points1, points2):\n",
    "    # Estimate point1 using point2 - TODO: Sometimes wrong cuz of inverse h\n",
    "    mat1 = np.array([point2[0], point2[1], 1])\n",
    "    res1 = np.matmul(h_inv, mat1)\n",
    "    res1 = (res1[:2]/res1[2]).astype(int)\n",
    "    dist1 = dist(res1, point1)\n",
    "\n",
    "    # Estimate point2 using point1\n",
    "    mat2 = np.array([point1[0], point1[1], 1])\n",
    "    res2 = np.matmul(h1, mat)\n",
    "    res2 = (res2[:2]/res2[2]).astype(int)\n",
    "    dist2 = dist(res2, point2)\n",
    "    \n",
    "    print(res1, point1, dist1)\n",
    "    print(res2, point2, dist2)\n",
    "    print(\"======\")\n",
    "\n",
    "\n"
   ]
  }
 ],
 "metadata": {
  "kernelspec": {
   "display_name": "Python 3",
   "language": "python",
   "name": "python3"
  },
  "language_info": {
   "codemirror_mode": {
    "name": "ipython",
    "version": 3
   },
   "file_extension": ".py",
   "mimetype": "text/x-python",
   "name": "python",
   "nbconvert_exporter": "python",
   "pygments_lexer": "ipython3",
   "version": "3.9.7"
  },
  "orig_nbformat": 4
 },
 "nbformat": 4,
 "nbformat_minor": 2
}
